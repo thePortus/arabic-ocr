{
 "cells": [
  {
   "cell_type": "markdown",
   "id": "24519a15",
   "metadata": {},
   "source": [
    "Add intro explanations here....\n",
    "\n",
    "* setting up dev env and text editor for windows/mac\n",
    "* os library link\n",
    "* relative and abspath explanation\n",
    "* explain importing modules"
   ]
  },
  {
   "cell_type": "markdown",
   "id": "930801df",
   "metadata": {},
   "source": [
    "### Step 1: Building directory paths and empty folders\n",
    "\n",
    "_Functions called in following code_\n",
    "\n",
    "* `os.getcwd()`  - Returns the current working directory (usually the directory where the script is located) [More Info](https://www.tutorialspoint.com/python/os_getcwd.htm)\n",
    "* `os.path.abspath()` - Takes a relative path and returns the respective absolute path (e.g. '~/sample.jpg' becomes '/Users/sampleuser/sample.jpg' on OSX) [More Info](https://www.geeksforgeeks.org/python-os-path-abspath-method-with-example/)\n",
    "* `os.path.join()` - Takes two string path segments and joins them together, often used to combine folder paths with a filename inside them [More Info](https://www.geeksforgeeks.org/python-os-path-join-method/)\n",
    "* `os.path.exists()` - Takes a string path and returns true/false whether there is/isn't a file or folder there. See also similar functions os.path.isdir() and os.path.isfile() [More Info](https://www.geeksforgeeks.org/python-check-if-a-file-or-directory-exists/)\n",
    "* `os.mkdir()` - Takes a string containing desired path and makes a new directory [More Info](https://www.geeksforgeeks.org/python-os-mkdir-method/)"
   ]
  },
  {
   "cell_type": "code",
   "execution_count": 1,
   "id": "f52d680a",
   "metadata": {},
   "outputs": [
    {
     "name": "stdout",
     "output_type": "stream",
     "text": [
      "Local root directory (absolute): /Users/davidthomas/git/arabic-ocr\n",
      "PDF subfolder Path: /Users/davidthomas/git/arabic-ocr/pdf\n",
      "Image subfolder Path: /Users/davidthomas/git/arabic-ocr/img\n",
      "TXT subfolder Path: /Users/davidthomas/git/arabic-ocr/txt\n",
      "Step completed\n"
     ]
    }
   ],
   "source": [
    "# importing python libraries, the import statement loads everything from the specified library\n",
    "import os\n",
    "\n",
    "# Getting local directory, probably as an absolute path, but possibly as a relative path\n",
    "current_directory = os.getcwd()\n",
    "# Converts path to absolute path if it isn't already, otherwise leaves it unchanged\n",
    "current_directory = os.path.abspath(current_directory)\n",
    "print('Local root directory (absolute): ' + current_directory)\n",
    "\n",
    "\"\"\" Building path to folder of PDFs using os.path.join() combines current directory with the name of the subdirectory\n",
    "(pdf) The reason you use os.path.join rather than say, something like current_directory + '/' + 'some_subfolder_name'\n",
    "is that os.path.join works on multiple operating systems, since Windows uses backslash in filepaths and OSX/Linux\n",
    "uses forward slash, this is important\"\"\"\n",
    "\n",
    "# combining for full path to folder of pdfs\n",
    "pdf_directory = os.path.join(current_directory, 'pdf')\n",
    "print('PDF subfolder Path: ' + pdf_directory)\n",
    "\n",
    "# repeat path building to non-existant (currently) 'img' and 'txt' output folders\n",
    "img_directory = os.path.join(current_directory, 'img')\n",
    "print('Image subfolder Path: ' + img_directory)\n",
    "txt_directory = os.path.join(current_directory, 'txt')\n",
    "print('TXT subfolder Path: ' + txt_directory)\n",
    "\n",
    "# if img directory doesn't exist, make it\n",
    "if not os.path.exists(img_directory): # this is the same as saying if os.path.exists(img_directory) == False\n",
    "    os.mkdir(img_directory)\n",
    "    print('Image subfolder created')\n",
    "    \n",
    "# if txt directory doesn't exist, make it\n",
    "if not os.path.exists(txt_directory):\n",
    "    os.mkdir(txt_directory)\n",
    "    print('TXT subfolder created')\n",
    "    \n",
    "print('Step completed')"
   ]
  },
  {
   "cell_type": "markdown",
   "id": "866c3826",
   "metadata": {},
   "source": [
    "## Step 2: Building a List of Files in the PDF folder\n",
    "\n",
    "_Functions called in the following code_\n",
    "\n",
    "* `\"\".endswith()` - Function attached to every Python string that takes another string and returns True if the first string ends with it. See similar function \"\".startswith()\n",
    "* `os.walk()` - Receives a string path and function gives back an iterable list of every file/subfolder inside (including multiple levels deep). For the strange way you loop through this list, see example below and under More Info [More Info](https://www.tutorialspoint.com/python/os_walk.htm)"
   ]
  },
  {
   "cell_type": "code",
   "execution_count": 2,
   "id": "b8f4d08a",
   "metadata": {},
   "outputs": [
    {
     "name": "stdout",
     "output_type": "stream",
     "text": [
      "/Users/davidthomas/git/arabic-ocr/pdf/Al-Wansharisi Excerpt.pdf\n",
      "/Users/davidthomas/git/arabic-ocr/pdf/Al-Tijani.pdf\n"
     ]
    }
   ],
   "source": [
    "# create empty list to add pdf filepaths to\n",
    "pdf_filepaths = []\n",
    "\n",
    "# store root path, directory paths, and full filepaths from os.walk() of everything inside PDF folder\n",
    "for root, dirs, files in os.walk(pdf_directory):\n",
    "    # loop through list of strings from os.walk()\n",
    "    for file in files:\n",
    "        # only add if a pdf file\n",
    "        if file.endswith('.pdf'):\n",
    "            # file is only the FILENAME, we must build full filepath by joining root with file in os.path.join()\n",
    "            file_abspath = os.path.join(root, file)\n",
    "            # now add the full filepath to the list of files\n",
    "            pdf_filepaths.append(file_abspath)\n",
    "\n",
    "# loop list of filepaths and print each out\n",
    "for pdf_filepath in pdf_filepaths:\n",
    "    print(pdf_filepath)"
   ]
  },
  {
   "cell_type": "markdown",
   "id": "dbe90504",
   "metadata": {},
   "source": [
    "## Step 3: Converting PDFs to Images\n",
    "\n",
    "_Functions called in the following code_\n",
    "\n",
    "* `os.path.basename()` - Receives a path and gives the last element of the path, whether a filename or deepest subfolder [More Info](https://www.geeksforgeeks.org/python-os-path-basename-method/)\n",
    "* `\"\".replace()` - Receives two strings, first contains text to 'select', second with the text that replaces selected text [More Info](https://www.geeksforgeeks.org/python-string-replace/)\n",
    "* `convert_from_path()` - Receives two strings, 1st a filepath of a PDF, 2nd the output folder for results [More Info](https://pypi.org/project/pdf2image/)"
   ]
  },
  {
   "cell_type": "code",
   "execution_count": 15,
   "id": "b02f2519",
   "metadata": {},
   "outputs": [
    {
     "name": "stdout",
     "output_type": "stream",
     "text": [
      "Converting /Users/davidthomas/git/arabic-ocr/pdf/Al-Wansharisi Excerpt.pdf\n",
      "Successful!\n"
     ]
    }
   ],
   "source": [
    "# expanding on import statement, \"from X import Y\" syntax imports selected subunits from the specified library\n",
    "from pdf2image import convert_from_path\n",
    "\n",
    "\n",
    "def convert_pdf_to_img(input_filepath):\n",
    "    \"\"\"Function receives a filepath to a PDF, calculates the corresponding output subfolder for the images\n",
    "    based on the PDF filename, and then converts the PDF to a series of images stored in that output subfolder.\"\"\"\n",
    "    \n",
    "    # use os.path.basename() to get PDF filename (instead of full path) to calculate name of new subfolder\n",
    "    pdf_name = os.path.basename(input_filepath)\n",
    "    # we need to remove the .pdf at the end, this is easy with Python's built-in string .replace() function\n",
    "    pdf_name = pdf_name.replace('.pdf', '')\n",
    "    # this is the final output path of all the images of the given PDF\n",
    "    output_folderpath = os.path.join(img_directory, pdf_name)\n",
    "    # if no subfolder already exists for the output, make it\n",
    "    if not os.path.exists(output_folderpath):\n",
    "        os.mkdir(output_folderpath)\n",
    "    print('Converting ' + input_filepath)\n",
    "    # perform conversion on inputfilepath, outputting to output-folderpath, in jpeg format\n",
    "    convert_from_path(input_filepath, output_folder=output_folderpath, fmt='jpeg')\n",
    "    print('Successful!')\n",
    "    \n",
    "\n",
    "# loop through PDFs and call conversion function on each NOTE: CURRENTLY STOPS AFTER 1st PDF FOR TESTING PURPOSES\n",
    "for pdf_filepath in pdf_filepaths:\n",
    "    convert_pdf_to_img(pdf_filepath)\n",
    "    # REMOVE THIS BREAK TO CONVERT ALL PDFS\n",
    "    break\n"
   ]
  },
  {
   "cell_type": "markdown",
   "id": "e586be07",
   "metadata": {},
   "source": [
    "### Step 4: Running OCR on Images\n",
    "\n",
    "_Functions called in the following code_\n",
    "\n",
    "*"
   ]
  },
  {
   "cell_type": "code",
   "execution_count": null,
   "id": "846abd84",
   "metadata": {},
   "outputs": [],
   "source": []
  }
 ],
 "metadata": {
  "kernelspec": {
   "display_name": "Python 3 (ipykernel)",
   "language": "python",
   "name": "python3"
  },
  "language_info": {
   "codemirror_mode": {
    "name": "ipython",
    "version": 3
   },
   "file_extension": ".py",
   "mimetype": "text/x-python",
   "name": "python",
   "nbconvert_exporter": "python",
   "pygments_lexer": "ipython3",
   "version": "3.9.10"
  }
 },
 "nbformat": 4,
 "nbformat_minor": 5
}
