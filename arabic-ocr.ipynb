{
 "cells": [
  {
   "cell_type": "markdown",
   "id": "d6f311a3",
   "metadata": {},
   "source": [
    "Add intro explanations here....\n",
    "\n",
    "* setting up dev env and text editor for windows/mac\n",
    "* os library link\n",
    "* relative and abspath explanation\n",
    "* explain importing modules"
   ]
  },
  {
   "cell_type": "markdown",
   "id": "be440183",
   "metadata": {},
   "source": [
    "_Functions called in following code_\n",
    "\n",
    "* `os.getcwd()`  - Returns the current working directory (usually the directory where the script is located) [More Info](https://www.tutorialspoint.com/python/os_getcwd.htm)\n",
    "* `os.path.abspath()` - Takes a relative path and returns the respective absolute path (e.g. '~/sample.jpg' becomes '/Users/sampleuser/sample.jpg' on OSX) [More Info](https://www.geeksforgeeks.org/python-os-path-abspath-method-with-example/)\n",
    "* `os.path.join()` - Takes two string path segments and joins them together, often used to combine folder paths with a filename inside them [More Info](https://www.geeksforgeeks.org/python-os-path-join-method/)\n",
    "* `os.path.exists()` - Takes a string path and returns true/false whether there is/isn't a file or folder there [More Info](https://www.geeksforgeeks.org/python-check-if-a-file-or-directory-exists/)\n",
    "* `os.mkdir()` - Takes a string containing desired path and makes a new directory [More Info](https://www.geeksforgeeks.org/python-os-mkdir-method/)"
   ]
  },
  {
   "cell_type": "code",
   "execution_count": null,
   "id": "f52d680a",
   "metadata": {},
   "outputs": [],
   "source": [
    "# import python libraries\n",
    "import os\n",
    "import pdf2image\n",
    "\n",
    "# Getting local directory, probably as an absolute path, but possibly as a relative path\n",
    "current_directory = os.getcwd()\n",
    "print('Local root directory: ' + current_directory)\n",
    "\n",
    "# Converts path to absolute path if it isn't already, otherwise leaves it unchanged\n",
    "current_directory = os.path.abspath(current_directory)\n",
    "print('Local root directory (absolute): ' + current_directory)\n",
    "\n",
    "\"\"\" Building path to folder of PDFs using os.path.join() combines current directory with the name of the subdirectory\n",
    "(pdf) The reason you use os.path.join rather than say, something like current_directory + '/' + 'some_subfolder_name'\n",
    "is that os.path.join works on multiple operating systems, since Windows uses backslash in filepaths and OSX/Linux\n",
    "uses forward slash, this is important\"\"\"\n",
    "\n",
    "# combining for full path to folder of pdfs\n",
    "pdf_directory = os.path.join(current_directory, 'pdf')\n",
    "print('PDF subfolder Path: ' + pdf_directory)\n",
    "\n",
    "# repeat path building to non-existant (currently) 'img' and 'txt' output folders\n",
    "img_directory = os.path.join(current_directory, 'img')\n",
    "print('Image subfolder Path: ' + img_directory)\n",
    "txt_directory = os.path.join(current_directory, 'txt')\n",
    "print('TXT subfolder Path: ' + txt_directory)\n",
    "\n",
    "# if img directory doesn't exist, make it\n",
    "if not os.path.exists(img_directory): # this is the same as saying if os.path.exists(img_directory) == False\n",
    "    os.mkdir(img_directory)\n",
    "    print('Image subfolder created')\n",
    "    \n",
    "# if txt directory doesn't exist, make it\n",
    "if not os.path.exists(txt_directory):\n",
    "    os.mkdir(txt_directory)\n",
    "    print('TXT subfolder created')\n",
    "    \n",
    "print('Step completed')"
   ]
  },
  {
   "cell_type": "code",
   "execution_count": null,
   "id": "8d04e4b3",
   "metadata": {},
   "outputs": [],
   "source": []
  }
 ],
 "metadata": {
  "kernelspec": {
   "display_name": "Python 3 (ipykernel)",
   "language": "python",
   "name": "python3"
  },
  "language_info": {
   "codemirror_mode": {
    "name": "ipython",
    "version": 3
   },
   "file_extension": ".py",
   "mimetype": "text/x-python",
   "name": "python",
   "nbconvert_exporter": "python",
   "pygments_lexer": "ipython3",
   "version": "3.9.10"
  }
 },
 "nbformat": 4,
 "nbformat_minor": 5
}
