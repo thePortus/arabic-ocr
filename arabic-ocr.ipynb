{
 "cells": [
  {
   "cell_type": "markdown",
   "id": "24519a15",
   "metadata": {},
   "source": [
    "# Arabic-OCR\n",
    "\n",
    "*A Digital Humanities Exercise: Batch converting folders of Arabic PDFs to plaintext files.*\n",
    "\n",
    "[David J. Thomas](mailto:dave.a.base@gmail.com), [thePort.us](http://thePort.us)<br />\n",
    "\n",
    "This exercise is going to have us convert a bunch of PDFs of Arabic texts and use OCR (optical character recognition) to convert them into plain text files. There is no single Python library that handles every step, and so we will have to layer our approach using several steps. Arabic OCR libraries for Python work on images not PDF files. Because of this, we will first have to convert each PDF file into its own folder of full of images, one image for each page using a library called `pdf2image`. Then, for each PDF we will have to go into its folder of images and run OCR on each page and rebuild the results in a text file which we will output to another folder.\n",
    "\n",
    "1. Establish the filepaths to our desired directories (input 'PDF' and output 'img' and 'txt' folders)\n",
    "2. Estbalish contents of PDF folder\n",
    "3. Use `pdf2image` to convert each PDF to a subfolder of images, each of which will be stored inside `img` folder\n",
    "4. On each subfolder inside `img` (equivalent to a PDF) scan each image to read text\n",
    "5. Combine text of every image for a particular PDF into an output file inside `txt` folder\n",
    "\n",
    "*Libraries we will use*\n",
    "* `os` - Built-in very important library for doing anything with the operating system, allows you to write code that works across operating systems\n",
    "* `shutil` - Installed via `pip`, utilities for working with files, we are only going to use it to quickly cleanup used and temporary files\n",
    "* `pdf2image`- Installed via `pip`, library for converting a given PDF into a folder of images\n",
    "* `natsort` - Installed via `pip`, library to make it easy to naturally sort lists of things (in our case filenames)\n",
    "* `ArabicOcr` - Installed via `pip`, library for reading individual images and extracting the plain text of Arabic\n",
    "\n",
    "Add intro explanations here....\n",
    "\n",
    "* setting up dev env and text editor for windows/mac\n",
    "* os library link\n",
    "* explain importing modules"
   ]
  },
  {
   "cell_type": "markdown",
   "id": "930801df",
   "metadata": {},
   "source": [
    "### Step 1: Building directory paths and empty folders\n",
    "\n",
    "_Functions called in following code_\n",
    "\n",
    "* `os.getcwd()`  - Returns the current working directory (usually the directory where the script is located) [More Info](https://www.tutorialspoint.com/python/os_getcwd.htm)\n",
    "* `os.path.abspath()` - Takes a relative path and returns the respective absolute path (e.g. '~/sample.jpg' becomes '/Users/sampleuser/sample.jpg' on OSX) [More Info](https://www.geeksforgeeks.org/python-os-path-abspath-method-with-example/)\n",
    "* `os.path.join()` - Takes two string path segments and joins them together, often used to combine folder paths with a filename inside them [More Info](https://www.geeksforgeeks.org/python-os-path-join-method/)\n",
    "* `os.path.exists()` - Takes a string path and returns true/false whether there is/isn't a file or folder there. See also similar functions os.path.isdir() and os.path.isfile() [More Info](https://www.geeksforgeeks.org/python-check-if-a-file-or-directory-exists/)\n",
    "* `os.mkdir()` - Takes a string containing desired path and makes a new directory [More Info](https://www.geeksforgeeks.org/python-os-mkdir-method/)\n",
    "* `shutil.rmtree()` - Take a string path and deletes any file/folder located there and anything inside, we will use it to cleanup unwanted files [More Info](https://www.geeksforgeeks.org/delete-an-entire-directory-tree-using-python-shutil-rmtree-method/)"
   ]
  },
  {
   "cell_type": "code",
   "execution_count": 24,
   "id": "f52d680a",
   "metadata": {},
   "outputs": [
    {
     "name": "stdout",
     "output_type": "stream",
     "text": [
      "Local root directory: /Users/davidthomas/git/arabic-ocr\n",
      "PDF subfolder Path: /Users/davidthomas/git/arabic-ocr/pdf\n",
      "Image subfolder Path: /Users/davidthomas/git/arabic-ocr/img\n",
      "TXT subfolder Path: /Users/davidthomas/git/arabic-ocr/txt\n",
      "Image folder re-intialized\n",
      "Text folder re-intialized\n",
      "Step completed\n"
     ]
    }
   ],
   "source": [
    "# importing python libraries, the import statement loads everything from the specified library\n",
    "import os\n",
    "import shutil\n",
    "\n",
    "\"\"\"full capitalizing variable names is standard ONLY for 'global constants' that is, variables that do not change\n",
    "and are available everywhere (not inside a function). This is common for things like settings\"\"\"\n",
    "# getting local directory...\n",
    "CURRENT_DIRECTORY = os.getcwd()\n",
    "print('Local root directory: ' + CURRENT_DIRECTORY)\n",
    "\n",
    "\"\"\" Building path to folder of PDFs using os.path.join() combines current directory with the name of the subdirectory\n",
    "(pdf) The reason you use os.path.join rather than say, something like current_directory + '/' + 'some_subfolder_name'\n",
    "is that os.path.join works on multiple operating systems, since Windows uses backslash in filepaths and OSX/Linux\n",
    "uses forward slash, this is important\"\"\"\n",
    "# combining for full path to folder of pdfs\n",
    "PDF_DIRECTORY = os.path.join(CURRENT_DIRECTORY, 'pdf')\n",
    "print('PDF subfolder Path: ' + PDF_DIRECTORY)\n",
    "\n",
    "# repeat path building to non-existant (currently) 'img' and 'txt' output folders\n",
    "IMG_DIRECTORY = os.path.join(CURRENT_DIRECTORY, 'img')\n",
    "print('Image subfolder Path: ' + IMG_DIRECTORY)\n",
    "TXT_DIRECTORY = os.path.join(CURRENT_DIRECTORY, 'txt')\n",
    "print('TXT subfolder Path: ' + TXT_DIRECTORY)\n",
    "\n",
    "# if img directory doesn't exist, make it\n",
    "if not os.path.exists(IMG_DIRECTORY): # this is the same as saying if os.path.exists(img_directory) == False\n",
    "    os.mkdir(IMG_DIRECTORY)\n",
    "    print('Image subfolder created')\n",
    "# otherwise (if script was run before and folder exists) delete folder and make new a new empty one\n",
    "else:\n",
    "    shutil.rmtree(IMG_DIRECTORY)\n",
    "    os.mkdir(IMG_DIRECTORY)\n",
    "    print('Image folder re-intialized')\n",
    "\n",
    "# if txt directory doesn't exist, make it\n",
    "if not os.path.exists(TXT_DIRECTORY):\n",
    "    os.mkdir(TXT_DIRECTORY)\n",
    "    print('Text subfolder created')\n",
    "# otherwise (if script was run before and folder exists) delete folder and make new a new empty one\n",
    "else:\n",
    "    shutil.rmtree(TXT_DIRECTORY)\n",
    "    os.mkdir(TXT_DIRECTORY)\n",
    "    print('Text folder re-intialized')\n",
    "\n",
    "print('Step completed')"
   ]
  },
  {
   "cell_type": "markdown",
   "id": "866c3826",
   "metadata": {},
   "source": [
    "## Step 2: Building a List of Files in the PDF folder\n",
    "\n",
    "_Functions called in the following code_\n",
    "\n",
    "* `\"\".endswith()` - Function attached to every Python string that takes another string and returns True if the first string ends with it. See similar function \"\".startswith()\n",
    "* `os.walk()` - Receives a string path and function gives back an iterable list of every file/subfolder inside (including multiple levels deep). For the strange way you loop through this list, see example below and under More Info [More Info](https://www.tutorialspoint.com/python/os_walk.htm)"
   ]
  },
  {
   "cell_type": "code",
   "execution_count": 25,
   "id": "b8f4d08a",
   "metadata": {},
   "outputs": [
    {
     "name": "stdout",
     "output_type": "stream",
     "text": [
      "/Users/davidthomas/git/arabic-ocr/pdf/Al-Wansharisi Excerpt.pdf\n",
      "/Users/davidthomas/git/arabic-ocr/pdf/Al-Tijani.pdf\n"
     ]
    }
   ],
   "source": [
    "# create empty list to add pdf filepaths to\n",
    "pdf_filepaths = []\n",
    "\n",
    "# store root path, directory paths, and full filepaths from os.walk() of everything inside PDF folder\n",
    "for root, dirs, files in os.walk(PDF_DIRECTORY):\n",
    "    # loop through list of strings from os.walk()\n",
    "    for file in files:\n",
    "        # only add if a pdf file\n",
    "        if file.endswith('.pdf'):\n",
    "            # file is only the FILENAME, we must build full filepath by joining root with file in os.path.join()\n",
    "            file_fullpath = os.path.join(root, file)\n",
    "            # now add the full filepath to the list of files\n",
    "            pdf_filepaths.append(file_fullpath)\n",
    "\n",
    "# loop list of filepaths and print each out\n",
    "for pdf_filepath in pdf_filepaths:\n",
    "    print(pdf_filepath)"
   ]
  },
  {
   "cell_type": "markdown",
   "id": "dbe90504",
   "metadata": {},
   "source": [
    "## Step 3: Converting PDFs to Images\n",
    "\n",
    "_Functions called in the following code_\n",
    "\n",
    "* `os.path.basename()` - Receives a path and gives the last element of the path, whether a filename or deepest subfolder [More Info](https://www.geeksforgeeks.org/python-os-path-basename-method/)\n",
    "* `\"\".replace()` - Receives two strings, first contains text to 'select', second with the text that replaces selected text [More Info](https://www.geeksforgeeks.org/python-string-replace/)\n",
    "* `convert_from_path()` - Receives two strings, 1st a filepath of a PDF, 2nd the output folder for results [More Info](https://pypi.org/project/pdf2image/)"
   ]
  },
  {
   "cell_type": "code",
   "execution_count": 26,
   "id": "b02f2519",
   "metadata": {},
   "outputs": [
    {
     "name": "stdout",
     "output_type": "stream",
     "text": [
      "Converting /Users/davidthomas/git/arabic-ocr/pdf/Al-Wansharisi Excerpt.pdf\n",
      "Successful!\n"
     ]
    }
   ],
   "source": [
    "# expanding on import statement, \"from X import Y\" syntax imports selected subunits from the specified library\n",
    "from pdf2image import convert_from_path\n",
    "\n",
    "\n",
    "def convert_pdf_to_img(input_filepath):\n",
    "    \"\"\"Function receives a filepath to a PDF, calculates the corresponding output subfolder for the images\n",
    "    based on the PDF filename, and then converts the PDF to a series of images stored in that output subfolder.\"\"\"\n",
    "    \n",
    "    # use os.path.basename() to get PDF filename (instead of full path) to calculate name of new subfolder\n",
    "    pdf_name = os.path.basename(input_filepath)\n",
    "    # we need to remove the .pdf at the end, this is easy with Python's built-in string .replace() function\n",
    "    pdf_name = pdf_name.replace('.pdf', '')\n",
    "    # this is the final output path of all the images of the given PDF\n",
    "    output_folderpath = os.path.join(IMG_DIRECTORY, pdf_name)\n",
    "    # if no subfolder already exists for the output, make it\n",
    "    if not os.path.exists(output_folderpath):\n",
    "        os.mkdir(output_folderpath)\n",
    "    print('Converting ' + input_filepath)\n",
    "    # perform conversion on inputfilepath, outputting to output-folderpath, in jpeg format\n",
    "    convert_from_path(input_filepath, output_folder=output_folderpath, fmt='jpeg')\n",
    "    print('Successful!')\n",
    "    \n",
    "\n",
    "# loop through PDFs and call conversion function on each NOTE: CURRENTLY STOPS AFTER 1st PDF FOR TESTING PURPOSES\n",
    "for pdf_filepath in pdf_filepaths:\n",
    "    convert_pdf_to_img(pdf_filepath)\n",
    "    # REMOVE THIS BREAK TO CONVERT ALL PDFS\n",
    "    break\n"
   ]
  },
  {
   "cell_type": "markdown",
   "id": "e586be07",
   "metadata": {},
   "source": [
    "### Step 4: Getting List of Filepaths for Each Image Subfolder\n",
    "\n",
    "_Functions called in the following code_\n",
    "\n",
    "* os.listdir() - Take a string path and returns a list of all files and folders found *directly* inside the path specified, does not go down multiple levels like os.walk() [More Info](https://www.geeksforgeeks.org/python-os-listdir-method/)\n",
    "* os.path.isdir() - Takes a string path and returns True/False if it points to a folder, see similar function os.path.isfile() [More Info](https://www.geeksforgeeks.org/python-os-path-isdir-method/)"
   ]
  },
  {
   "cell_type": "code",
   "execution_count": 27,
   "id": "846abd84",
   "metadata": {},
   "outputs": [
    {
     "name": "stdout",
     "output_type": "stream",
     "text": [
      "Images found at...\n",
      "/Users/davidthomas/git/arabic-ocr/img/Al-Wansharisi Excerpt\n"
     ]
    }
   ],
   "source": [
    "# we need to get a list of all subdirs inside our img folder (should be one for each PDF), start with an empty list\n",
    "pdf_img_dirs = []\n",
    "\n",
    "# first lets loop through a list the contents of what is directly inside our img folder\n",
    "for sub_item in os.listdir(IMG_DIRECTORY):\n",
    "    # since sub_item is only the name, we need to build the full filepath with os.path.join()\n",
    "    sub_item_path = os.path.join(IMG_DIRECTORY, sub_item)\n",
    "    # checks to see if sub_item is a directory or file\n",
    "    if os.path.isdir(sub_item_path):\n",
    "        # if so add it to list of folders\n",
    "        pdf_img_dirs.append(sub_item_path)\n",
    "\n",
    "\n",
    "# Loop and print each folder found\n",
    "print('Images found at...')\n",
    "for pdf_img_dir in pdf_img_dirs:\n",
    "    print(pdf_img_dir)"
   ]
  },
  {
   "cell_type": "markdown",
   "id": "6162346d",
   "metadata": {},
   "source": [
    "### Step 5: Defining Function to Convert a Single Folder\n",
    "\n",
    "_Functions called in the following code_\n",
    "\n",
    "* arabicocr.arabic_ocr() - Peforms ocr: takes 2 strings, an image filepath for input and an image filepath for error checking output, it RETURNS a list of the words recognized. [More Info](https://pypi.org/project/ArabicOcr/)"
   ]
  },
  {
   "cell_type": "code",
   "execution_count": 29,
   "id": "64cd1d6d",
   "metadata": {},
   "outputs": [
    {
     "ename": "ValueError",
     "evalue": "invalid literal for int() with base 10: '314e3cd9-d120-4e0a-9ed6-22df5bf31cf4-4'",
     "output_type": "error",
     "traceback": [
      "\u001b[0;31m---------------------------------------------------------------------------\u001b[0m",
      "\u001b[0;31mValueError\u001b[0m                                Traceback (most recent call last)",
      "Input \u001b[0;32mIn [29]\u001b[0m, in \u001b[0;36m<module>\u001b[0;34m\u001b[0m\n\u001b[1;32m      9\u001b[0m         \u001b[38;5;28mprint\u001b[39m(sorted_file)\n\u001b[1;32m     11\u001b[0m \u001b[38;5;28;01mfor\u001b[39;00m pdf_img_dir \u001b[38;5;129;01min\u001b[39;00m pdf_img_dirs:\n\u001b[0;32m---> 12\u001b[0m     \u001b[43mgather_folder\u001b[49m\u001b[43m(\u001b[49m\u001b[43mpdf_img_dir\u001b[49m\u001b[43m)\u001b[49m\n",
      "Input \u001b[0;32mIn [29]\u001b[0m, in \u001b[0;36mgather_folder\u001b[0;34m(folderpath)\u001b[0m\n\u001b[1;32m      5\u001b[0m \u001b[38;5;28;01mdef\u001b[39;00m \u001b[38;5;21mgather_folder\u001b[39m(folderpath):\n\u001b[1;32m      6\u001b[0m     img_files \u001b[38;5;241m=\u001b[39m os\u001b[38;5;241m.\u001b[39mlistdir(folderpath)\n\u001b[0;32m----> 7\u001b[0m     sorted_img_files \u001b[38;5;241m=\u001b[39m \u001b[38;5;28;43msorted\u001b[39;49m\u001b[43m(\u001b[49m\u001b[43mimg_files\u001b[49m\u001b[43m,\u001b[49m\u001b[43m \u001b[49m\u001b[43mkey\u001b[49m\u001b[38;5;241;43m=\u001b[39;49m\u001b[38;5;28;43;01mlambda\u001b[39;49;00m\u001b[43m \u001b[49m\u001b[43mx\u001b[49m\u001b[43m:\u001b[49m\u001b[43m \u001b[49m\u001b[38;5;28;43mint\u001b[39;49m\u001b[43m(\u001b[49m\u001b[43mos\u001b[49m\u001b[38;5;241;43m.\u001b[39;49m\u001b[43mpath\u001b[49m\u001b[38;5;241;43m.\u001b[39;49m\u001b[43msplitext\u001b[49m\u001b[43m(\u001b[49m\u001b[43mx\u001b[49m\u001b[43m)\u001b[49m\u001b[43m[\u001b[49m\u001b[38;5;241;43m0\u001b[39;49m\u001b[43m]\u001b[49m\u001b[43m)\u001b[49m\u001b[43m)\u001b[49m\n\u001b[1;32m      8\u001b[0m     \u001b[38;5;28;01mfor\u001b[39;00m sorted_file \u001b[38;5;129;01min\u001b[39;00m sorted_img_files:\n\u001b[1;32m      9\u001b[0m         \u001b[38;5;28mprint\u001b[39m(sorted_file)\n",
      "Input \u001b[0;32mIn [29]\u001b[0m, in \u001b[0;36mgather_folder.<locals>.<lambda>\u001b[0;34m(x)\u001b[0m\n\u001b[1;32m      5\u001b[0m \u001b[38;5;28;01mdef\u001b[39;00m \u001b[38;5;21mgather_folder\u001b[39m(folderpath):\n\u001b[1;32m      6\u001b[0m     img_files \u001b[38;5;241m=\u001b[39m os\u001b[38;5;241m.\u001b[39mlistdir(folderpath)\n\u001b[0;32m----> 7\u001b[0m     sorted_img_files \u001b[38;5;241m=\u001b[39m \u001b[38;5;28msorted\u001b[39m(img_files, key\u001b[38;5;241m=\u001b[39m\u001b[38;5;28;01mlambda\u001b[39;00m x: \u001b[38;5;28;43mint\u001b[39;49m\u001b[43m(\u001b[49m\u001b[43mos\u001b[49m\u001b[38;5;241;43m.\u001b[39;49m\u001b[43mpath\u001b[49m\u001b[38;5;241;43m.\u001b[39;49m\u001b[43msplitext\u001b[49m\u001b[43m(\u001b[49m\u001b[43mx\u001b[49m\u001b[43m)\u001b[49m\u001b[43m[\u001b[49m\u001b[38;5;241;43m0\u001b[39;49m\u001b[43m]\u001b[49m\u001b[43m)\u001b[49m)\n\u001b[1;32m      8\u001b[0m     \u001b[38;5;28;01mfor\u001b[39;00m sorted_file \u001b[38;5;129;01min\u001b[39;00m sorted_img_files:\n\u001b[1;32m      9\u001b[0m         \u001b[38;5;28mprint\u001b[39m(sorted_file)\n",
      "\u001b[0;31mValueError\u001b[0m: invalid literal for int() with base 10: '314e3cd9-d120-4e0a-9ed6-22df5bf31cf4-4'"
     ]
    }
   ],
   "source": [
    "# import the library call for natural sorter and arabic ocr\n",
    "import natsort\n",
    "from ArabicOcr import arabicocr\n",
    "\n",
    "\n",
    "def gather_folder(folderpath):\n",
    "    img_files = os.listdir(folderpath)\n",
    "    sorted_img_files = natsort.natsorted(img_files)\n",
    "    for sorted_file in sorted_img_files:\n",
    "        print(sorted_file)\n",
    "    \n",
    "for pdf_img_dir in pdf_img_dirs:\n",
    "    gather_folder(pdf_img_dir)"
   ]
  },
  {
   "cell_type": "code",
   "execution_count": null,
   "id": "bff69bf1",
   "metadata": {},
   "outputs": [],
   "source": []
  }
 ],
 "metadata": {
  "kernelspec": {
   "display_name": "Python 3 (ipykernel)",
   "language": "python",
   "name": "python3"
  },
  "language_info": {
   "codemirror_mode": {
    "name": "ipython",
    "version": 3
   },
   "file_extension": ".py",
   "mimetype": "text/x-python",
   "name": "python",
   "nbconvert_exporter": "python",
   "pygments_lexer": "ipython3",
   "version": "3.9.10"
  }
 },
 "nbformat": 4,
 "nbformat_minor": 5
}
